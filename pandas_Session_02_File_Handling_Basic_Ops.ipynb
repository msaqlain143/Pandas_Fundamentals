{
 "cells": [
  {
   "cell_type": "markdown",
   "id": "f09707c9",
   "metadata": {},
   "source": [
    "# Pandas Session 02: File Handling and Basic Operations\n",
    "\n",
    "## Engr Muhammad Saqlain\n",
    "\n"
   ]
  },
  {
   "cell_type": "markdown",
   "id": "46a21213",
   "metadata": {},
   "source": [
    "## Reading Data from CSV\n"
   ]
  },
  {
   "cell_type": "code",
   "execution_count": null,
   "id": "10045587",
   "metadata": {},
   "outputs": [],
   "source": [
    "# Import necessary libraries\n",
    "import pandas as pd\n"
   ]
  },
  {
   "cell_type": "code",
   "execution_count": null,
   "id": "ee0434b1",
   "metadata": {},
   "outputs": [],
   "source": [
    "# Create a DataFrame from a CSV file\n",
    "csv_file_path = r'C:\\Users\\Abbasi-Laptop\\Dropbox\\CAI\\4_Pandas\\Datasets\\Session_02\\1_TK_data.csv'\n",
    "df_csv = pd.read_csv(csv_file_path)\n",
    "\n",
    "# Display the first few rows of the DataFrame\n",
    "df_csv.head(5)\n"
   ]
  },
  {
   "cell_type": "markdown",
   "id": "d8177891",
   "metadata": {},
   "source": [
    "## Reading Data from Excel"
   ]
  },
  {
   "cell_type": "code",
   "execution_count": null,
   "id": "dc5954fd",
   "metadata": {},
   "outputs": [],
   "source": [
    "# Create a DataFrame from an Excel file\n",
    "excel_file_path = r'C:\\Users\\Abbasi-Laptop\\Dropbox\\CAI\\4_Pandas\\Datasets\\Session_02/2_Pak_imm.xlsx'\n",
    "df_excel = pd.read_excel(excel_file_path, sheet_name='Country Wise')\n",
    "\n",
    "# Display the first few rows of the DataFrame\n",
    "df_excel.head(20)\n"
   ]
  },
  {
   "cell_type": "markdown",
   "id": "b0b4de27",
   "metadata": {},
   "source": [
    "## Reading Data from SQL Database"
   ]
  },
  {
   "cell_type": "code",
   "execution_count": null,
   "id": "2a826430",
   "metadata": {},
   "outputs": [],
   "source": [
    "!pip install pysqlite3"
   ]
  },
  {
   "cell_type": "code",
   "execution_count": null,
   "id": "5226562e",
   "metadata": {},
   "outputs": [],
   "source": [
    "# Import necessary libraries\n",
    "import sqlite3\n",
    "\n",
    "# Specify the path to your SQLite database\n",
    "db_path = r'C:\\Users\\Abbasi-Laptop\\Dropbox\\CAI\\4_Pandas\\Datasets\\Session_02/3_database.db'\n",
    "\n",
    "# Create a connection to the database\n",
    "conn = sqlite3.connect(db_path)\n",
    "\n",
    "# Specify the SQL query\n",
    "sql_query = 'SELECT * FROM purchases;'\n",
    "#sql_query = 'SELECT * FROM my_data_table;'\n",
    "\n",
    "# Create a DataFrame from the SQL query\n",
    "df_sql = pd.read_sql(sql_query, conn)\n",
    "\n",
    "# Display the first few rows of the DataFrame\n",
    "df_sql.head()\n"
   ]
  },
  {
   "cell_type": "markdown",
   "id": "e6e117e8",
   "metadata": {},
   "source": [
    "### Reading data from JSON files"
   ]
  },
  {
   "cell_type": "code",
   "execution_count": null,
   "id": "5b5b2dd5",
   "metadata": {},
   "outputs": [],
   "source": [
    "df = pd.read_json(r'C:\\Users\\Abbasi-Laptop\\Dropbox\\CAI\\4_Pandas\\Datasets\\Session_02\\4_new_purchases.json')\n",
    "\n",
    "df"
   ]
  },
  {
   "cell_type": "markdown",
   "id": "260c8ebd",
   "metadata": {},
   "source": [
    "## Reading Data from a URL"
   ]
  },
  {
   "cell_type": "code",
   "execution_count": null,
   "id": "1c0b722b",
   "metadata": {},
   "outputs": [],
   "source": [
    "url = r\"https://www.w3schools.com/python/pandas/data.csv\"\n",
    "\n",
    "df_url = pd.read_csv(url)\n",
    "\n",
    "df_url.head()"
   ]
  },
  {
   "cell_type": "markdown",
   "id": "bd4ed0c6",
   "metadata": {},
   "source": [
    "# Writing Data to Different Formats"
   ]
  },
  {
   "cell_type": "code",
   "execution_count": null,
   "id": "caf45f35",
   "metadata": {},
   "outputs": [],
   "source": [
    "# Create a sample DataFrame\n",
    "data = {'Name': ['Alice', 'Bob', 'Charlie', 'David'],\n",
    "        'Age': [25, 30, 35, 40],\n",
    "        'City': ['New York', 'San Francisco', 'Los Angeles', 'Chicago']}\n",
    "df = pd.DataFrame(data)\n",
    "\n",
    "# Display the DataFrame\n",
    "df"
   ]
  },
  {
   "cell_type": "markdown",
   "id": "7f908084",
   "metadata": {},
   "source": [
    "\n",
    "## Writing Data to CSV\n"
   ]
  },
  {
   "cell_type": "code",
   "execution_count": null,
   "id": "a3807514",
   "metadata": {},
   "outputs": [],
   "source": [
    "# Write DataFrame to a CSV file\n",
    "csv_file_path = r'C:\\Users\\Abbasi-Laptop\\Dropbox\\CAI\\4_Pandas\\Outputs\\output_csv_s02.csv'\n",
    "df.to_csv(csv_file_path, index=True)\n"
   ]
  },
  {
   "cell_type": "markdown",
   "id": "78ba2d5e",
   "metadata": {},
   "source": [
    "## Writing Data to Excel"
   ]
  },
  {
   "cell_type": "code",
   "execution_count": null,
   "id": "52ea5e5b",
   "metadata": {},
   "outputs": [],
   "source": [
    "# Write DataFrame to an Excel file\n",
    "excel_file_path = r'C:\\Users\\Abbasi-Laptop\\Dropbox\\CAI\\4_Pandas\\Outputs\\output_xlsx_s02.xlsx'\n",
    "df.to_excel(excel_file_path, index=False, sheet_name='Sheet1')"
   ]
  },
  {
   "cell_type": "markdown",
   "id": "24d2950d",
   "metadata": {},
   "source": [
    "## Writing Data to SQL Database"
   ]
  },
  {
   "cell_type": "code",
   "execution_count": null,
   "id": "0d62fe21",
   "metadata": {},
   "outputs": [],
   "source": [
    "# Create a connection to a SQL database (SQLite in this example)\n",
    "conn = sqlite3.connect(r'C:\\Users\\Abbasi-Laptop\\Dropbox\\CAI\\4_Pandas\\Datasets\\Session_02/3_database.db')\n",
    "\n",
    "# Write DataFrame to a SQL table\n",
    "sql_table_name = 'my_data_table'\n",
    "df.to_sql(sql_table_name, conn, index=False, if_exists='replace');"
   ]
  },
  {
   "cell_type": "markdown",
   "id": "90623b5c",
   "metadata": {},
   "source": [
    "## Writing Data to JSON "
   ]
  },
  {
   "cell_type": "code",
   "execution_count": null,
   "id": "64bccd5f",
   "metadata": {},
   "outputs": [],
   "source": [
    "# Write DataFrame to a JSON file\n",
    "json_file_path = r'C:\\Users\\Abbasi-Laptop\\Dropbox\\CAI\\4_Pandas\\Outputs\\output_json_s02.json'\n",
    "df.to_json(json_file_path, orient='records')\n"
   ]
  },
  {
   "cell_type": "markdown",
   "id": "9663e6d3",
   "metadata": {},
   "source": [
    "# Basic Data Operations"
   ]
  },
  {
   "cell_type": "code",
   "execution_count": null,
   "id": "d9a67a5b",
   "metadata": {},
   "outputs": [],
   "source": [
    "df_tk=df_csv"
   ]
  },
  {
   "cell_type": "code",
   "execution_count": null,
   "id": "64c39e98",
   "metadata": {},
   "outputs": [],
   "source": [
    "# See first 5 values\n",
    "df_tk.head()"
   ]
  },
  {
   "cell_type": "code",
   "execution_count": null,
   "id": "64a2b146",
   "metadata": {},
   "outputs": [],
   "source": [
    "# See last 5 values\n",
    "df_tk.tail()"
   ]
  },
  {
   "cell_type": "markdown",
   "id": "d95b138e",
   "metadata": {},
   "source": [
    "## Total rows and columns"
   ]
  },
  {
   "cell_type": "code",
   "execution_count": null,
   "id": "289f1727",
   "metadata": {},
   "outputs": [],
   "source": [
    "df_tk.shape"
   ]
  },
  {
   "cell_type": "code",
   "execution_count": null,
   "id": "626430d2",
   "metadata": {},
   "outputs": [],
   "source": [
    "len(df_tk)"
   ]
  },
  {
   "cell_type": "code",
   "execution_count": null,
   "id": "20262816",
   "metadata": {},
   "outputs": [],
   "source": [
    "df_tk.shape[1]"
   ]
  },
  {
   "cell_type": "code",
   "execution_count": null,
   "id": "06405d13",
   "metadata": {},
   "outputs": [],
   "source": [
    "df_tk.columns"
   ]
  },
  {
   "cell_type": "markdown",
   "id": "5f51f228",
   "metadata": {},
   "source": [
    "## Column datatypes"
   ]
  },
  {
   "cell_type": "code",
   "execution_count": null,
   "id": "0e8208b8",
   "metadata": {},
   "outputs": [],
   "source": [
    "# Display data types of each column\n",
    "df_tk.dtypes"
   ]
  },
  {
   "cell_type": "code",
   "execution_count": null,
   "id": "1ef4b73d",
   "metadata": {},
   "outputs": [],
   "source": [
    "# Identify numeric columns\n",
    "numeric_columns = df_tk.select_dtypes(include=['number']).columns.tolist()\n",
    "numeric_columns"
   ]
  },
  {
   "cell_type": "code",
   "execution_count": null,
   "id": "98d7bafa",
   "metadata": {},
   "outputs": [],
   "source": [
    "# Identify string or categorical columns\n",
    "string_categorical_columns = df_tk.select_dtypes(exclude=['number']).columns.tolist()\n",
    "string_categorical_columns"
   ]
  },
  {
   "cell_type": "markdown",
   "id": "c83cbbb0",
   "metadata": {},
   "source": [
    "## Data Inspection and Summary"
   ]
  },
  {
   "cell_type": "code",
   "execution_count": null,
   "id": "68f116a5",
   "metadata": {},
   "outputs": [],
   "source": [
    "# Total cells\n",
    "df_tk.size"
   ]
  },
  {
   "cell_type": "code",
   "execution_count": null,
   "id": "48878f41",
   "metadata": {},
   "outputs": [],
   "source": [
    "df_tk.info()"
   ]
  },
  {
   "cell_type": "code",
   "execution_count": null,
   "id": "4d6ef288",
   "metadata": {},
   "outputs": [],
   "source": [
    "# Missing Data\n",
    "#df_tk.isnull()\n",
    "df_tk.isnull().sum()"
   ]
  },
  {
   "cell_type": "code",
   "execution_count": null,
   "id": "8bf82d05",
   "metadata": {},
   "outputs": [],
   "source": [
    "# Non-null values\n",
    "df_tk.notnull().sum()"
   ]
  },
  {
   "cell_type": "code",
   "execution_count": null,
   "id": "5a3f33ff",
   "metadata": {},
   "outputs": [],
   "source": [
    "df_tk.index"
   ]
  },
  {
   "cell_type": "code",
   "execution_count": null,
   "id": "52d461ee",
   "metadata": {},
   "outputs": [],
   "source": [
    "df_tk.nunique()"
   ]
  },
  {
   "cell_type": "markdown",
   "id": "abe8f80b",
   "metadata": {},
   "source": [
    "## Descriptive Statistics"
   ]
  },
  {
   "cell_type": "code",
   "execution_count": null,
   "id": "dd4b28d2",
   "metadata": {},
   "outputs": [],
   "source": [
    "df_tk.describe()"
   ]
  },
  {
   "cell_type": "code",
   "execution_count": null,
   "id": "3589a431",
   "metadata": {},
   "outputs": [],
   "source": [
    "df_tk.describe(include='all')"
   ]
  },
  {
   "cell_type": "code",
   "execution_count": null,
   "id": "b63bf6d5",
   "metadata": {},
   "outputs": [],
   "source": [
    "#df_tk.mean()\n",
    "#df_tk.mode()\n",
    "df_tk[['Assessed Value', 'Retention Cost']].median()"
   ]
  },
  {
   "cell_type": "code",
   "execution_count": null,
   "id": "f8d32129",
   "metadata": {},
   "outputs": [],
   "source": [
    "df_tk[['Assessed Value', 'Retention Cost']].min()"
   ]
  },
  {
   "cell_type": "code",
   "execution_count": null,
   "id": "d8fed24d",
   "metadata": {},
   "outputs": [],
   "source": [
    "df_tk[['Assessed Value', 'Retention Cost']].max()"
   ]
  },
  {
   "cell_type": "code",
   "execution_count": null,
   "id": "01a6e8f1",
   "metadata": {},
   "outputs": [],
   "source": [
    "df_tk[['Assessed Value', 'Retention Cost']].sum()"
   ]
  },
  {
   "cell_type": "code",
   "execution_count": null,
   "id": "8bed7683",
   "metadata": {},
   "outputs": [],
   "source": [
    "df_tk[['Assessed Value', 'Retention Cost']].std()"
   ]
  },
  {
   "cell_type": "code",
   "execution_count": null,
   "id": "3636ffee",
   "metadata": {},
   "outputs": [],
   "source": [
    "df_tk.count()"
   ]
  },
  {
   "cell_type": "code",
   "execution_count": null,
   "id": "0e4c0fb6",
   "metadata": {},
   "outputs": [],
   "source": [
    "df_tk.corr()"
   ]
  },
  {
   "cell_type": "code",
   "execution_count": null,
   "id": "4423b7ec",
   "metadata": {},
   "outputs": [],
   "source": [
    "df_tk[\"Affiliation\"].unique().tolist()"
   ]
  },
  {
   "cell_type": "code",
   "execution_count": null,
   "id": "fee95dbf",
   "metadata": {},
   "outputs": [],
   "source": [
    "df_tk[\"Affiliation\"].value_counts()"
   ]
  },
  {
   "cell_type": "markdown",
   "id": "36b96dc4",
   "metadata": {},
   "source": [
    "## Who took the most expensive gift?"
   ]
  },
  {
   "cell_type": "code",
   "execution_count": null,
   "id": "ba6c701a",
   "metadata": {},
   "outputs": [],
   "source": [
    "# Find the index of the row with the maximum assessed value\n",
    "max_value_index = df_tk['Assessed Value'].idxmax()\n",
    "\n",
    "# Retrieve the details of the person who took the most expensive gift\n",
    "most_expensive_gift_details = df_tk.loc[max_value_index]\n",
    "\n",
    "# Display the result\n",
    "print(most_expensive_gift_details)"
   ]
  },
  {
   "cell_type": "markdown",
   "id": "fe05d4ea",
   "metadata": {},
   "source": [
    "## Year-Wise Details"
   ]
  },
  {
   "cell_type": "code",
   "execution_count": null,
   "id": "0a5f5454",
   "metadata": {},
   "outputs": [],
   "source": [
    "# Convert 'Date' column to datetime format\n",
    "df_tk['Date'] = pd.to_datetime(df_tk['Date'], format='%m/%d/%Y')\n",
    "\n",
    "# Extract the year from the 'Date' column\n",
    "df_tk['Year'] = df_tk['Date'].dt.year\n",
    "\n",
    "# Group by 'Year' and calculate the total gifts taken\n",
    "yearly_gifts_total = df_tk.groupby('Year')['Detail of Gifts'].count()\n",
    "\n",
    "# Display the result\n",
    "print(yearly_gifts_total)\n"
   ]
  },
  {
   "cell_type": "code",
   "execution_count": null,
   "id": "1f147ecf",
   "metadata": {},
   "outputs": [],
   "source": [
    "import matplotlib.pyplot as plt\n",
    "\n",
    "# Plot the bar chart for yearly gifts total\n",
    "yearly_gifts_total.plot(kind='bar', color='skyblue')\n",
    "\n",
    "# Set plot labels and title\n",
    "plt.xlabel('Year')\n",
    "plt.ylabel('Total Gifts Taken')\n",
    "plt.title('Yearly Total Gifts Taken')\n",
    "\n",
    "# Show the plot\n",
    "plt.show()\n"
   ]
  },
  {
   "cell_type": "code",
   "execution_count": null,
   "id": "c9dababe",
   "metadata": {},
   "outputs": [],
   "source": [
    "# Group by 'Year' and calculate the total amount taken each year\n",
    "yearly_gifts_sum = df_tk.groupby('Year')['Assessed Value'].sum()\n",
    "\n",
    "# Display the result\n",
    "print(yearly_gifts_sum)\n"
   ]
  },
  {
   "cell_type": "code",
   "execution_count": null,
   "id": "adf7da56",
   "metadata": {},
   "outputs": [],
   "source": [
    "# Plot the bar chart for yearly gifts total\n",
    "yearly_gifts_sum.plot(kind='bar', color='blue')\n",
    "\n",
    "# Set plot labels and title\n",
    "plt.xlabel('Year')\n",
    "plt.ylabel('Amount of Gifts Taken')\n",
    "plt.title('Yearly Total Amounts of Gifts Taken')\n",
    "\n",
    "# Show the plot\n",
    "plt.show()\n"
   ]
  },
  {
   "cell_type": "markdown",
   "id": "b2dba3e7",
   "metadata": {},
   "source": [
    "## Affiliation-wise Details"
   ]
  },
  {
   "cell_type": "code",
   "execution_count": null,
   "id": "0d9454c2",
   "metadata": {},
   "outputs": [],
   "source": [
    "# Group by 'Affiliation' and calculate the total gifts taken for each affiliation\n",
    "affiliation_gifts_total = df_tk.groupby('Affiliation')['Detail of Gifts'].count()\n",
    "\n",
    "# Display the result\n",
    "print(affiliation_gifts_total)"
   ]
  },
  {
   "cell_type": "code",
   "execution_count": null,
   "id": "f4279f28",
   "metadata": {},
   "outputs": [],
   "source": [
    "#Let's correct affiliations\n",
    "df_tk[\"Affiliation\"]=df_tk[\"Affiliation\"].replace({'Gen Mus': \"Gen. Musharraf\", \"Gen. Musharrafarraf\": \"Gen. Musharraf\"})"
   ]
  },
  {
   "cell_type": "code",
   "execution_count": null,
   "id": "7bedeb37",
   "metadata": {},
   "outputs": [],
   "source": [
    "# Group by 'Affiliation' and calculate the total gifts taken for each affiliation\n",
    "affiliation_gifts_total = df_tk.groupby('Affiliation')['Detail of Gifts'].count()\n",
    "\n",
    "# Display the result\n",
    "print(affiliation_gifts_total)"
   ]
  },
  {
   "cell_type": "code",
   "execution_count": null,
   "id": "1f81d118",
   "metadata": {},
   "outputs": [],
   "source": [
    "# Plot the bar chart for total gifts taken by affiliation\n",
    "affiliation_gifts_total.plot(kind='bar', color='green')\n",
    "\n",
    "# Set plot labels and title\n",
    "plt.xlabel('Affiliation')\n",
    "plt.ylabel('Total Gifts Taken')\n",
    "plt.title('Total Gifts Taken by Affiliation')\n",
    "\n",
    "# Show the plot\n",
    "plt.show()\n"
   ]
  },
  {
   "cell_type": "code",
   "execution_count": null,
   "id": "3750feae",
   "metadata": {},
   "outputs": [],
   "source": [
    "# Group by 'Affiliation' and calculate the sum of gifts taken for each affiliation\n",
    "affiliation_gifts_sum = df_tk.groupby('Affiliation')['Assessed Value'].sum()\n",
    "\n",
    "# Display the result\n",
    "print(affiliation_gifts_sum)"
   ]
  },
  {
   "cell_type": "code",
   "execution_count": null,
   "id": "4ab1f46b",
   "metadata": {},
   "outputs": [],
   "source": [
    "# Plot the bar chart for total gifts taken by affiliation\n",
    "affiliation_gifts_sum.plot(kind='bar', color='red')\n",
    "\n",
    "# Set plot labels and title\n",
    "plt.xlabel('Affiliation')\n",
    "plt.ylabel('Total Amount of Gifts Taken')\n",
    "plt.title('Total Amount of Gifts Taken by Affiliation')\n",
    "\n",
    "# Show the plot\n",
    "plt.show()"
   ]
  },
  {
   "cell_type": "markdown",
   "id": "e37b2ddc",
   "metadata": {},
   "source": [
    "## Assessed Value and Retention Cost Comparison"
   ]
  },
  {
   "cell_type": "code",
   "execution_count": null,
   "id": "9c6248f7",
   "metadata": {},
   "outputs": [],
   "source": [
    "df_tk.head()"
   ]
  },
  {
   "cell_type": "code",
   "execution_count": null,
   "id": "bf654fe7",
   "metadata": {},
   "outputs": [],
   "source": [
    "# Group by 'Affiliation' and calculate the sum of assessed value and retention cost for each affiliation\n",
    "affiliation_sums = df_tk.groupby('Affiliation')[['Assessed Value', 'Retention Cost']].sum()\n",
    "\n",
    "# Display the result\n",
    "print(affiliation_sums)\n"
   ]
  },
  {
   "cell_type": "code",
   "execution_count": null,
   "id": "524b462d",
   "metadata": {},
   "outputs": [],
   "source": [
    "# Plot the bar chart for sum of assessed value and sum of retention cost by affiliation\n",
    "affiliation_sums.plot(kind='bar', stacked=False)\n",
    "\n",
    "# Set plot labels and title\n",
    "plt.xlabel('Affiliation')\n",
    "plt.ylabel('Sum')\n",
    "plt.title('Comparison of Sum of Assessed Value and Retention Cost by Affiliation')\n",
    "\n",
    "# Show the plot\n",
    "plt.show()\n"
   ]
  },
  {
   "cell_type": "code",
   "execution_count": null,
   "id": "47f7035c",
   "metadata": {},
   "outputs": [],
   "source": [
    "df_tk.nunique()"
   ]
  },
  {
   "cell_type": "markdown",
   "id": "cc81aa09",
   "metadata": {},
   "source": [
    "## Item-wise details"
   ]
  },
  {
   "cell_type": "code",
   "execution_count": null,
   "id": "3e19b5f0",
   "metadata": {},
   "outputs": [],
   "source": [
    "# Group by 'Item Category' and 'Affiliation' and calculate the sum of assessed value and retention cost for each combination\n",
    "category_affiliation_sums = df_tk.groupby('Item Category')[['Assessed Value', 'Retention Cost']].sum()\n",
    "\n",
    "# Display the result\n",
    "print(category_affiliation_sums)\n"
   ]
  },
  {
   "cell_type": "code",
   "execution_count": null,
   "id": "ea139708",
   "metadata": {},
   "outputs": [],
   "source": [
    "# Plot the bar chart for sum of assessed value and sum of retention cost by category\n",
    "category_affiliation_sums.plot(kind='bar', stacked=False)\n",
    "\n",
    "# Set plot labels and title\n",
    "plt.xlabel('Category')\n",
    "plt.ylabel('Sum')\n",
    "plt.title('Comparison of Sum of Assessed Value and Retention Cost by Category')\n",
    "\n",
    "# Show the plot\n",
    "plt.show()\n"
   ]
  },
  {
   "cell_type": "markdown",
   "id": "b6f58640",
   "metadata": {},
   "source": [
    "## Gifts taken for free"
   ]
  },
  {
   "cell_type": "code",
   "execution_count": null,
   "id": "40570dc3",
   "metadata": {},
   "outputs": [],
   "source": [
    "# Filter the DataFrame based on the conditions\n",
    "filtered_gifts = df_tk[(df_tk['Assessed Value'] != 0) & (df_tk['Retention Cost'] == 0) & (df_tk['Retained'] == 'Yes')]\n",
    "\n",
    "# Display the result\n",
    "print(filtered_gifts)\n"
   ]
  },
  {
   "cell_type": "markdown",
   "id": "636837a8",
   "metadata": {},
   "source": [
    "## Who took free gifts and how much?"
   ]
  },
  {
   "cell_type": "code",
   "execution_count": null,
   "id": "6a24ea9c",
   "metadata": {},
   "outputs": [],
   "source": [
    "# Group by 'Affiliation' and calculate the total assessed value for each affiliation\n",
    "total_assessed_values_by_affiliation = filtered_gifts.groupby('Affiliation')['Assessed Value'].sum()\n",
    "\n",
    "# Display the result\n",
    "print(total_assessed_values_by_affiliation)\n"
   ]
  },
  {
   "cell_type": "code",
   "execution_count": null,
   "id": "4ddbaaa0",
   "metadata": {},
   "outputs": [],
   "source": [
    "# Plot the bar chart\n",
    "total_assessed_values_by_affiliation.plot(kind='bar', color='orange')\n",
    "\n",
    "# Set plot labels and title\n",
    "plt.xlabel('Affiliation')\n",
    "plt.ylabel('Total Assessed Value')\n",
    "plt.title('Total Assessed Value of Filtered Gifts by Affiliation')\n",
    "\n",
    "# Show the plot\n",
    "plt.show()"
   ]
  },
  {
   "cell_type": "code",
   "execution_count": null,
   "id": "4e678064",
   "metadata": {},
   "outputs": [],
   "source": []
  }
 ],
 "metadata": {
  "kernelspec": {
   "display_name": "Python 3 (ipykernel)",
   "language": "python",
   "name": "python3"
  },
  "language_info": {
   "codemirror_mode": {
    "name": "ipython",
    "version": 3
   },
   "file_extension": ".py",
   "mimetype": "text/x-python",
   "name": "python",
   "nbconvert_exporter": "python",
   "pygments_lexer": "ipython3",
   "version": "3.10.11"
  }
 },
 "nbformat": 4,
 "nbformat_minor": 5
}
