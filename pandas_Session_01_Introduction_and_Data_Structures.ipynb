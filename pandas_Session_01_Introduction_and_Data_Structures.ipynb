{
 "cells": [
  {
   "cell_type": "markdown",
   "id": "f09707c9",
   "metadata": {},
   "source": [
    "# Introduction to Pandas and Data Structures\n",
    "\n",
    "## Engr Muhammad Saqlain\n",
    "\n",
    "## What is Pandas?\n",
    "\n",
    "[Pandas](https://pandas.pydata.org/) is a powerful and widely-used open-source data manipulation and analysis library for Python. It provides data structures for efficiently storing large datasets and tools for working with structured data seamlessly. Developed by Wes McKinney, Pandas is built on top of the NumPy library and is a fundamental tool in the data science and machine learning ecosystem.\n",
    "\n",
    "## Why is Pandas Important in Data Analysis?\n",
    "\n",
    "1. **Ease of Data Handling:** Pandas simplifies the process of importing, cleaning, and manipulating structured data. It provides easy-to-use data structures, primarily the DataFrame, that are highly efficient and intuitive.\n",
    "\n",
    "2. **Flexibility in Data Structures:** With Pandas, you can work with Series (1-dimensional labeled arrays) and DataFrames (2-dimensional labeled data structures) to handle a variety of data types, including numerical, categorical, and textual data.\n",
    "\n",
    "3. **Data Cleaning and Preprocessing:** Pandas offers a plethora of functions for handling missing data, converting data types, and performing operations that are crucial for preparing data for analysis.\n",
    "\n",
    "4. **Powerful Data Analysis Tools:** Pandas enables powerful data analysis through its groupby operations, pivot tables, and statistical functions. It facilitates exploratory data analysis (EDA) and the extraction of meaningful insights from datasets.\n",
    "\n",
    "5. **Integration with Other Libraries:** Pandas seamlessly integrates with other popular Python libraries, such as NumPy, Matplotlib, and scikit-learn, providing a comprehensive ecosystem for data analysis and machine learning.\n",
    "\n",
    "6. **Time Series Analysis:** Pandas excels in handling time series data, making it a valuable tool for tasks like financial analysis, stock market predictions, and trend analysis.\n",
    "\n",
    "In this session, we will dive into the basics of Pandas, exploring its data structures, learning how to import and export data, and performing fundamental operations for data manipulation.\n"
   ]
  },
  {
   "cell_type": "markdown",
   "id": "7aad565b",
   "metadata": {},
   "source": [
    "# Installation and Setup\n",
    "\n",
    "## Installing Pandas and Setting Up the Environment\n",
    "\n",
    "[Pandas](https://pandas.pydata.org/) is easy to install using Python's package manager, pip. Use following command in JN to install Pandas. \n",
    "\n",
    "!pip install pandas\n"
   ]
  },
  {
   "cell_type": "markdown",
   "id": "30b550ad",
   "metadata": {},
   "source": [
    "# Data Structures in Pandas\n",
    "\n",
    "## Series\n",
    "\n",
    "A `Series` in Pandas is a one-dimensional labeled array capable of holding any data type. It is essentially a labeled column of data and can be created from various data sources. Let's explore how to create a Pandas Series:\n",
    "\n",
    "### Creating a Series from a List\n"
   ]
  },
  {
   "cell_type": "code",
   "execution_count": null,
   "id": "c5c1def1",
   "metadata": {},
   "outputs": [],
   "source": [
    "import pandas as pd\n",
    "\n",
    "# Creating a Series from a list of numbers\n",
    "numbers = [1, 3, 5, 7, 9]\n",
    "series_from_list = pd.Series(numbers)\n",
    "series_from_list"
   ]
  },
  {
   "cell_type": "markdown",
   "id": "a084fa95",
   "metadata": {},
   "source": [
    "###  Creating a Series with Custom Index"
   ]
  },
  {
   "cell_type": "code",
   "execution_count": null,
   "id": "3601e08b",
   "metadata": {},
   "outputs": [],
   "source": [
    "# Creating a Series with custom index\n",
    "data = {'a': 10, 'b': 20, 'c': 30, 'd': 40}\n",
    "series_custom_index = pd.Series(data)\n",
    "series_custom_index"
   ]
  },
  {
   "cell_type": "markdown",
   "id": "010be0da",
   "metadata": {},
   "source": [
    "###  Creating a Series from a NumPy Array"
   ]
  },
  {
   "cell_type": "code",
   "execution_count": null,
   "id": "ce9a1885",
   "metadata": {},
   "outputs": [],
   "source": [
    "import numpy as np\n",
    "\n",
    "# Creating a Series from a NumPy array\n",
    "numpy_array = np.array([2, 4, 6, 8, 10])\n",
    "series_from_numpy = pd.Series(numpy_array)\n",
    "series_from_numpy"
   ]
  },
  {
   "cell_type": "markdown",
   "id": "e3d96abd",
   "metadata": {},
   "source": [
    "### Creating a Series with Explicit Index"
   ]
  },
  {
   "cell_type": "code",
   "execution_count": null,
   "id": "114f5eed",
   "metadata": {},
   "outputs": [],
   "source": [
    "# Creating a Series with explicit index\n",
    "data_explicit_index = pd.Series([0.25, 0.5, 0.75, 1.0], index=['a', 'b', 'c', 'd'])\n",
    "data_explicit_index"
   ]
  },
  {
   "cell_type": "markdown",
   "id": "10f3b296",
   "metadata": {},
   "source": [
    "### Series Indexing\n",
    "\n",
    "Pandas Series support various methods of indexing, allowing you to access and manipulate data efficiently.\n",
    "\n",
    "####  Standard Indexing"
   ]
  },
  {
   "cell_type": "code",
   "execution_count": null,
   "id": "ede4b7b4",
   "metadata": {},
   "outputs": [],
   "source": [
    "# Creating a Series for indexing examples\n",
    "sample_series = pd.Series([10, 20, 30, 40], index=['a', 'b', 'c', 'd'])\n",
    "\n",
    "# Accessing a single element using standard indexing\n",
    "sample_series[0]"
   ]
  },
  {
   "cell_type": "code",
   "execution_count": null,
   "id": "5eb2cf7f",
   "metadata": {},
   "outputs": [],
   "source": [
    "sample_series[1:4]"
   ]
  },
  {
   "cell_type": "markdown",
   "id": "1d959972",
   "metadata": {},
   "source": [
    " ### Label-based Indexing"
   ]
  },
  {
   "cell_type": "code",
   "execution_count": null,
   "id": "fcb0bd99",
   "metadata": {},
   "outputs": [],
   "source": [
    "# Accessing elements using custom labels\n",
    "sample_series['b']\n"
   ]
  },
  {
   "cell_type": "code",
   "execution_count": null,
   "id": "a70dc1bf",
   "metadata": {},
   "outputs": [],
   "source": [
    " sample_series[['c', 'd']]"
   ]
  },
  {
   "cell_type": "markdown",
   "id": "994d7257",
   "metadata": {},
   "source": [
    "### Slicing"
   ]
  },
  {
   "cell_type": "code",
   "execution_count": null,
   "id": "df26d4e4",
   "metadata": {},
   "outputs": [],
   "source": [
    "# Slicing the Series\n",
    "sample_series[1:4]\n"
   ]
  },
  {
   "cell_type": "markdown",
   "id": "456466e9",
   "metadata": {},
   "source": [
    "### Conditional or boolean Indexing "
   ]
  },
  {
   "cell_type": "code",
   "execution_count": null,
   "id": "43b6d8fb",
   "metadata": {},
   "outputs": [],
   "source": [
    "# Conditional indexing (selecting elements greater than 20)\n",
    "sample_series[sample_series > 20]\n"
   ]
  },
  {
   "cell_type": "markdown",
   "id": "fdbaf5a8",
   "metadata": {},
   "source": [
    "### Fancy Indexing"
   ]
  },
  {
   "cell_type": "code",
   "execution_count": null,
   "id": "9a0e7a5d",
   "metadata": {},
   "outputs": [],
   "source": [
    "# Fancy indexing using a list of indices\n",
    "indices = ['a', 'c', 'd']\n",
    "sample_series[indices]"
   ]
  },
  {
   "cell_type": "markdown",
   "id": "30a7d9cd",
   "metadata": {},
   "source": [
    "# Basic Operations on Pandas Series\n",
    "\n",
    "Pandas Series support a variety of operations, making it easy to perform computations and manipulations on your data.\n",
    "\n",
    "### Arithmetic Operations"
   ]
  },
  {
   "cell_type": "code",
   "execution_count": null,
   "id": "8fa0ffb1",
   "metadata": {},
   "outputs": [],
   "source": [
    "# Creating two Series for arithmetic operations\n",
    "series1 = pd.Series([1, 2, 3, 4], index=['a', 'b', 'c', 'd'])\n",
    "series2 = pd.Series([5, 6, 7, 8], index=['a', 'b', 'c', 'd'])"
   ]
  },
  {
   "cell_type": "code",
   "execution_count": null,
   "id": "4c56b9d0",
   "metadata": {},
   "outputs": [],
   "source": [
    "\n",
    "# Addition\n",
    "series1 + series2\n"
   ]
  },
  {
   "cell_type": "code",
   "execution_count": null,
   "id": "9fc928bd",
   "metadata": {},
   "outputs": [],
   "source": [
    "# Subtraction\n",
    "series1 - series2\n"
   ]
  },
  {
   "cell_type": "code",
   "execution_count": null,
   "id": "8ada0f0b",
   "metadata": {},
   "outputs": [],
   "source": [
    "# Multiplication\n",
    "series1 * series2"
   ]
  },
  {
   "cell_type": "code",
   "execution_count": null,
   "id": "cd5d5070",
   "metadata": {},
   "outputs": [],
   "source": [
    "# Division\n",
    "series1 / series2\n"
   ]
  },
  {
   "cell_type": "markdown",
   "id": "f60f5519",
   "metadata": {},
   "source": [
    "### Element-wise Functions"
   ]
  },
  {
   "cell_type": "code",
   "execution_count": null,
   "id": "fcaf9b55",
   "metadata": {},
   "outputs": [],
   "source": [
    "# Square root of each element\n",
    "np.sqrt(series1)"
   ]
  },
  {
   "cell_type": "code",
   "execution_count": null,
   "id": "b9e44832",
   "metadata": {},
   "outputs": [],
   "source": [
    "# Exponential function\n",
    "np.exp(series1)"
   ]
  },
  {
   "cell_type": "code",
   "execution_count": null,
   "id": "966d129d",
   "metadata": {},
   "outputs": [],
   "source": [
    "# Logarithm (natural logarithm)\n",
    "np.log(series2)"
   ]
  },
  {
   "cell_type": "markdown",
   "id": "a5b4ab01",
   "metadata": {},
   "source": [
    " ### Aggregation Functions"
   ]
  },
  {
   "cell_type": "code",
   "execution_count": null,
   "id": "f4940dba",
   "metadata": {},
   "outputs": [],
   "source": [
    "series1.sum()  # Sum of all elements"
   ]
  },
  {
   "cell_type": "code",
   "execution_count": null,
   "id": "dc227958",
   "metadata": {},
   "outputs": [],
   "source": [
    "series2.mean()  # Mean of all elements"
   ]
  },
  {
   "cell_type": "code",
   "execution_count": null,
   "id": "ec77ea4b",
   "metadata": {},
   "outputs": [],
   "source": [
    "series1.max()  # Maximum value"
   ]
  },
  {
   "cell_type": "code",
   "execution_count": null,
   "id": "484489fa",
   "metadata": {},
   "outputs": [],
   "source": [
    "series2.min()  # Minimum value"
   ]
  },
  {
   "cell_type": "markdown",
   "id": "9e8d4d4f",
   "metadata": {},
   "source": [
    "### Element-wise Comparison"
   ]
  },
  {
   "cell_type": "code",
   "execution_count": null,
   "id": "32bd3db3",
   "metadata": {},
   "outputs": [],
   "source": [
    "# Element-wise comparison between two Series\n",
    "comparison_result = series1 > series2\n",
    "\n",
    "comparison_result"
   ]
  },
  {
   "cell_type": "markdown",
   "id": "23998c5a",
   "metadata": {},
   "source": [
    "### Updating Values"
   ]
  },
  {
   "cell_type": "code",
   "execution_count": null,
   "id": "00182ce9",
   "metadata": {},
   "outputs": [],
   "source": [
    "# Updating values in a Series\n",
    "series1['a'] = 10  # Updating a specific element\n",
    "\n",
    "series1\n"
   ]
  },
  {
   "cell_type": "markdown",
   "id": "b658a0d1",
   "metadata": {},
   "source": [
    "# DataFrame Creation in Pandas\n",
    "\n",
    "Pandas DataFrames are two-dimensional labeled data structures that can store and manipulate data in tabular form. Let's explore various methods of creating DataFrames.\n",
    "\n",
    "### Creating a DataFrame from a Dictionary"
   ]
  },
  {
   "cell_type": "code",
   "execution_count": null,
   "id": "99deac03",
   "metadata": {},
   "outputs": [],
   "source": [
    "# Creating a DataFrame from a dictionary\n",
    "data = {'Name': ['Alice', 'Bob', 'Charlie', 'David'],\n",
    "        'Age': [25, 30, 35, 28],\n",
    "        'City': ['New York', 'San Francisco', 'Los Angeles', 'Chicago']}\n",
    "\n",
    "df_from_dict = pd.DataFrame(data)\n",
    "\n",
    "df_from_dict\n"
   ]
  },
  {
   "cell_type": "markdown",
   "id": "a4089e55",
   "metadata": {},
   "source": [
    "### Creating a DataFrame from a List of Lists"
   ]
  },
  {
   "cell_type": "code",
   "execution_count": null,
   "id": "aca8cb0b",
   "metadata": {},
   "outputs": [],
   "source": [
    "# Creating a DataFrame from a list of lists\n",
    "data_list = [['Alice', 25, 'New York'],\n",
    "             ['Bob', 30, 'San Francisco'],\n",
    "             ['Charlie', 35, 'Los Angeles'],\n",
    "             ['David', 28, 'Chicago']]\n",
    "\n",
    "df_from_list = pd.DataFrame(data_list, columns=['Name', 'Age', 'City'])\n",
    "\n",
    "df_from_list"
   ]
  },
  {
   "cell_type": "markdown",
   "id": "902e0503",
   "metadata": {},
   "source": [
    "### Creating a DataFrame from a NumPy Array"
   ]
  },
  {
   "cell_type": "code",
   "execution_count": null,
   "id": "6814b2fb",
   "metadata": {},
   "outputs": [],
   "source": [
    "# Creating a DataFrame from a NumPy array\n",
    "data_array = np.array([[1, 2, 3], [4, 5, 6], [7, 8, 9]])\n",
    "\n",
    "df_from_array = pd.DataFrame(data_array, columns=['A', 'B', 'C'])\n",
    "\n",
    "df_from_array\n"
   ]
  },
  {
   "cell_type": "markdown",
   "id": "3f23a709",
   "metadata": {},
   "source": [
    "### Creating an Empty DataFrame with Columns"
   ]
  },
  {
   "cell_type": "code",
   "execution_count": null,
   "id": "c2527428",
   "metadata": {},
   "outputs": [],
   "source": [
    "# Creating an empty DataFrame with columns\n",
    "columns = ['Name', 'Age', 'City']\n",
    "empty_df = pd.DataFrame(columns=columns)\n",
    "\n",
    "empty_df\n"
   ]
  },
  {
   "cell_type": "markdown",
   "id": "0a05bc79",
   "metadata": {},
   "source": [
    "# DataFrame Indexing in Pandas\n",
    "\n",
    "Indexing in Pandas DataFrames involves selecting and manipulating data based on rows and columns. Let's explore different indexing methods.\n",
    "\n",
    "### Indexing Columns\n"
   ]
  },
  {
   "cell_type": "code",
   "execution_count": null,
   "id": "45c49508",
   "metadata": {},
   "outputs": [],
   "source": [
    "# Creating a DataFrame for indexing examples\n",
    "data = {'Name': ['Alice', 'Bob', 'Charlie', 'David'],\n",
    "        'Age': [25, 30, 35, 28],\n",
    "        'City': ['New York', 'San Francisco', 'Los Angeles', 'Chicago']}\n",
    "\n",
    "df = pd.DataFrame(data)\n"
   ]
  },
  {
   "cell_type": "code",
   "execution_count": null,
   "id": "663f8ccc",
   "metadata": {},
   "outputs": [],
   "source": [
    "df"
   ]
  },
  {
   "cell_type": "code",
   "execution_count": null,
   "id": "7710aeea",
   "metadata": {},
   "outputs": [],
   "source": [
    "\n",
    "# Indexing a single column\n",
    "df['Name']\n"
   ]
  },
  {
   "cell_type": "code",
   "execution_count": null,
   "id": "c7efd524",
   "metadata": {},
   "outputs": [],
   "source": [
    "# Indexing multiple columns\n",
    "df[['Name', 'Age']]"
   ]
  },
  {
   "cell_type": "markdown",
   "id": "ca858b7e",
   "metadata": {},
   "source": [
    "### Indexing Rows"
   ]
  },
  {
   "cell_type": "code",
   "execution_count": null,
   "id": "d0e58374",
   "metadata": {},
   "outputs": [],
   "source": [
    "# Indexing rows using iloc (integer-location based indexing)\n",
    "first_row = df.iloc[0]  # Selecting the first row. Try  iloc[0,0]\n",
    "first_row"
   ]
  },
  {
   "cell_type": "code",
   "execution_count": null,
   "id": "47353659",
   "metadata": {},
   "outputs": [],
   "source": [
    "df"
   ]
  },
  {
   "cell_type": "code",
   "execution_count": null,
   "id": "e8986b4d",
   "metadata": {},
   "outputs": [],
   "source": [
    "# Indexing rows using loc (label-based indexing)\n",
    "second_row = df.loc[2]  # Selecting the second row\n",
    "second_row"
   ]
  },
  {
   "cell_type": "markdown",
   "id": "e9487c54",
   "metadata": {},
   "source": [
    "### Conditional or boolean indexing"
   ]
  },
  {
   "cell_type": "code",
   "execution_count": null,
   "id": "26a86ddd",
   "metadata": {},
   "outputs": [],
   "source": [
    "# Conditional indexing on DataFrame\n",
    "filtered_data = df[df['Age'] > 30]\n",
    "\n",
    "filtered_data\n"
   ]
  },
  {
   "cell_type": "markdown",
   "id": "40bebbe2",
   "metadata": {},
   "source": [
    "### Indexing with at and iat"
   ]
  },
  {
   "cell_type": "code",
   "execution_count": null,
   "id": "22f39fde",
   "metadata": {},
   "outputs": [],
   "source": [
    "# Indexing with `at` (label-based)\n",
    "df.at[1, 'Name']"
   ]
  },
  {
   "cell_type": "code",
   "execution_count": null,
   "id": "48dab293",
   "metadata": {},
   "outputs": [],
   "source": [
    "# Indexing with `iat` (integer-location based)\n",
    "df.iat[1, 0]"
   ]
  },
  {
   "cell_type": "markdown",
   "id": "478d4317",
   "metadata": {},
   "source": [
    "### Setting and Resetting Index"
   ]
  },
  {
   "cell_type": "code",
   "execution_count": null,
   "id": "588ab950",
   "metadata": {},
   "outputs": [],
   "source": [
    "df"
   ]
  },
  {
   "cell_type": "code",
   "execution_count": null,
   "id": "f9972ce8",
   "metadata": {},
   "outputs": [],
   "source": [
    "# Setting a new index\n",
    "df_with_index = df.set_index('Name')\n",
    "df_with_index"
   ]
  },
  {
   "cell_type": "code",
   "execution_count": null,
   "id": "3066cc39",
   "metadata": {},
   "outputs": [],
   "source": [
    "df"
   ]
  },
  {
   "cell_type": "code",
   "execution_count": null,
   "id": "eaa05b71",
   "metadata": {},
   "outputs": [],
   "source": [
    "# Resetting index\n",
    "df_reset_index = df_with_index.reset_index()\n",
    "df_reset_index"
   ]
  },
  {
   "cell_type": "markdown",
   "id": "c08c5b4a",
   "metadata": {},
   "source": [
    "# Basic Operations on Pandas DataFrames\n",
    "\n",
    "Pandas DataFrames support a wide range of operations for data manipulation and analysis. Let's explore some fundamental operations.\n",
    "\n",
    "### Accessing Columns\n"
   ]
  },
  {
   "cell_type": "code",
   "execution_count": null,
   "id": "5f53340a",
   "metadata": {},
   "outputs": [],
   "source": [
    "# Creating a DataFrame for basic operations examples\n",
    "data = {'Name': ['Alice', 'Bob', 'Charlie', 'David'],\n",
    "        'Age': [25, 30, 35, 28],\n",
    "        'City': ['New York', 'San Francisco', 'Los Angeles', 'Chicago']}\n",
    "\n",
    "df = pd.DataFrame(data)\n",
    "\n",
    "df"
   ]
  },
  {
   "cell_type": "markdown",
   "id": "b69d7151",
   "metadata": {},
   "source": [
    "### Adding a New Column"
   ]
  },
  {
   "cell_type": "code",
   "execution_count": null,
   "id": "59a3e498",
   "metadata": {},
   "outputs": [],
   "source": [
    "# Adding a new column\n",
    "df['Salary'] = [50000, 60000, 75000, 48000]\n",
    "\n",
    "df\n"
   ]
  },
  {
   "cell_type": "markdown",
   "id": "9f469a61",
   "metadata": {},
   "source": [
    "### Descriptive Statistics"
   ]
  },
  {
   "cell_type": "code",
   "execution_count": null,
   "id": "3eaa0c99",
   "metadata": {},
   "outputs": [],
   "source": [
    "# Descriptive statistics on a DataFrame\n",
    "summary_statistics = df.describe()\n",
    "\n",
    "summary_statistics\n"
   ]
  },
  {
   "cell_type": "markdown",
   "id": "e5c2ea79",
   "metadata": {},
   "source": [
    "### Transposing a DataFrame"
   ]
  },
  {
   "cell_type": "code",
   "execution_count": null,
   "id": "dafa1e4e",
   "metadata": {},
   "outputs": [],
   "source": [
    "# Transposing a DataFrame (switching rows and columns)\n",
    "transposed_df = df.T\n",
    "\n",
    "transposed_df\n"
   ]
  },
  {
   "cell_type": "markdown",
   "id": "f462cff5",
   "metadata": {},
   "source": [
    "###  Sorting Data"
   ]
  },
  {
   "cell_type": "code",
   "execution_count": null,
   "id": "323a0e9f",
   "metadata": {},
   "outputs": [],
   "source": [
    "# Sorting a DataFrame by a specific column\n",
    "sorted_df = df.sort_values(by='Age', ascending=False)\n",
    "\n",
    "sorted_df\n"
   ]
  },
  {
   "cell_type": "markdown",
   "id": "9b509b98",
   "metadata": {},
   "source": [
    "### Filtering Data"
   ]
  },
  {
   "cell_type": "code",
   "execution_count": null,
   "id": "ef757d39",
   "metadata": {},
   "outputs": [],
   "source": [
    "# Filtering data based on a condition\n",
    "filtered_data = df[df['Age'] > 30]\n",
    "\n",
    "filtered_data\n"
   ]
  },
  {
   "cell_type": "markdown",
   "id": "bf1a5213",
   "metadata": {},
   "source": [
    "### Grouping and Aggregation"
   ]
  },
  {
   "cell_type": "code",
   "execution_count": null,
   "id": "afc1a978",
   "metadata": {},
   "outputs": [],
   "source": [
    "# Grouping by a column and calculating the mean\n",
    "grouped_data = df.groupby('City').mean()\n",
    "\n",
    "grouped_data\n"
   ]
  },
  {
   "cell_type": "code",
   "execution_count": null,
   "id": "3d1d5742",
   "metadata": {},
   "outputs": [],
   "source": [
    "df"
   ]
  },
  {
   "cell_type": "markdown",
   "id": "e11c2881",
   "metadata": {},
   "source": [
    "### Dropping columns"
   ]
  },
  {
   "cell_type": "code",
   "execution_count": null,
   "id": "c57097d3",
   "metadata": {},
   "outputs": [],
   "source": [
    "# Deleting a column\n",
    "df_without_age = df.drop('Age', axis=1)\n",
    "\n",
    "df_without_age\n"
   ]
  },
  {
   "cell_type": "code",
   "execution_count": null,
   "id": "ebf60c6b",
   "metadata": {},
   "outputs": [],
   "source": [
    "df"
   ]
  },
  {
   "cell_type": "code",
   "execution_count": null,
   "id": "0a3b424f",
   "metadata": {},
   "outputs": [],
   "source": []
  }
 ],
 "metadata": {
  "kernelspec": {
   "display_name": "Python 3 (ipykernel)",
   "language": "python",
   "name": "python3"
  },
  "language_info": {
   "codemirror_mode": {
    "name": "ipython",
    "version": 3
   },
   "file_extension": ".py",
   "mimetype": "text/x-python",
   "name": "python",
   "nbconvert_exporter": "python",
   "pygments_lexer": "ipython3",
   "version": "3.10.11"
  }
 },
 "nbformat": 4,
 "nbformat_minor": 5
}
